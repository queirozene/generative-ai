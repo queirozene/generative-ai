{
  "nbformat": 4,
  "nbformat_minor": 0,
  "metadata": {
    "colab": {
      "provenance": []
    },
    "kernelspec": {
      "name": "python3",
      "display_name": "Python 3"
    },
    "language_info": {
      "name": "python"
    }
  },
  "cells": [
    {
      "cell_type": "markdown",
      "source": [
        "#**Trabalho final - Classificador de produtos com GenAI**"
      ],
      "metadata": {
        "id": "Gg5ZPMO1jo4L"
      }
    },
    {
      "cell_type": "markdown",
      "source": [
        "**Nota de atenção:**\n",
        "- Leia com atenção o descritivo do trabalho e as orientações do template.\n",
        "- O trabalho deve ser entregue **respeitando a estrutura do arquivo de template**, utilizando o notebook \"Template Trabalho final - Classificador de produtos com GenAI.ipynb\" e compactado no formato .zip.\n",
        "- Deve haver apenas um arquivo no formato .ipynb, consolidando todo o trabalho."
      ],
      "metadata": {
        "id": "KXvR5XhTOG0O"
      }
    },
    {
      "cell_type": "markdown",
      "metadata": {
        "id": "VDbi6PDS9MYO"
      },
      "source": [
        "**Participantes (RM - NOME):**<br>\n",
        "\n",
        "361485 - GUSTAVO QUEIROZ RIBEIRO<br>\n"
      ]
    },
    {
      "cell_type": "markdown",
      "source": [
        "###**Caso de uso:**\n",
        "\n",
        "Uma empresa de marketplace, disponibiliza sua plataforma para diversos vendedores cadastrarem seus produtos em diferentes categorias previamente definidas. Essas categorias são utilizadas para melhor distribuir e divulgar seus produtos para os clientes e usuários da plataforma. Mas nem todos os vendedores respeitam essas categorias, regras e as diretrizes do marketplace.\n",
        "\n",
        "Pense nos diversos problemas que podemos enfrentar:\n",
        "- Vendedores que cadastram produtos em categorias erradas;\n",
        "- Vendedores que querem vender produtos ilícitos;\n",
        "- Vendedores que querem vender produtos que não são permitidos pelas políticas do marketplace e por aí vai...\n",
        "\n",
        "**Será que é possível validar o cadastro desses produtos e categorias, produto por produto**? Um por um?... Que trampo, não???\n",
        "\n",
        "###**Desafio:**\n",
        "- Conseguimos ajudar a mitigar parte desse problema?\n",
        "- Você conseguiria criar algum **processo** que diminua esse trabalho manual e que **valide a categoria** desses produtos?\n",
        "\n",
        "Bom, podemos criar um **processo que seja capaz de classificar um produto através do nome e da descrição**, e depois podemos confrontar com a categoria e premissas da plataforma usando **IA Generativa e modelos LLMs**.\n",
        "\n",
        "###**Orientações:**\n",
        "\n",
        "---\n",
        "####**Usem o Google Colab com Python e esse template para desenvolverem o trabalho.**\n",
        "---\n",
        "\n",
        "**1. Análise exploratória**, vamos começar explorando a base de dados de produtos [1]?\n",
        "  - Faça uma análise exploratória para entender os dados e estrutura do dataframe.\n",
        "  - Crie uma nova coluna no dataframe chamada **`texto`** concatenando as colunas **`nome`** e **`descricao`**. Ex.: `nome + \" \" + descricao`.\n",
        "  - Crie um dataframe novo e selecionando uma amostra aleatória de **100 registros** usando o `random_state = 42` (veja o exemplo abaixo).\n",
        "  \n",
        "  ***Obs**.:\n",
        "    - É importante manter essa configuração da amostra para os trabalhos ficarem comparáveis e classificando os mesmos produtos.\n",
        "    - Faça a análise exploratória com a base completa e não apenas com o sample.\n",
        "\n",
        "**2. Desenvolvimento e testes**, nessa parte é onde vocês podem explorar o desenvolvimento do trabalho aplicando as técnicas, ferramentas e serviços de GenAI.  \n",
        "  - Explore diferentes formas de tratar o problema. Comece selecionando casos individuais para testar as ferramentas, framework, APIs e técnicas de prompt engineering.\n",
        "  - Fiquem à vontade para explorar os serviços e frameworks vistos em aula: API da OpenAI Platform, API da Azure AI Foundry e LangChain.\n",
        "  - Sejam criativo, mas não precisa de complexidade e podem explorar outras formas de desenvolver.\n",
        "  - Explique as decisões e racional do desenvolvimento. Abuse dos comentários.\n",
        "\n",
        "**3. Processo final**, aqui nessa parte separe apenas o processo final com um pipeline completo para classificar a categoria dos produtos.\n",
        "  - Crie uma função de receba um `texto` (nome + descrição do produto) e retorne a categoria classificada pelo texto.\n",
        "  - Aplique essa função no dataframe com os 100 casos.\n",
        "  - Resultado esperado: No dataframe de produto com os 100 casos, crie uma nova coluna de categoria: `categoria_genai`.\n",
        "  - Valide se a classificação da Ia Generativa de cada produto está correta ou divergente comparando com a coluna `categora` escolhida pelo vendedor. Crie uma nova coluna `validacao_categoria` com os valores da validação: `correta` ou `divergente`.\n",
        "\n",
        "###**Avaliação:**\n",
        "O trabalho será avaliado pelas seguintes diretrizes:\n",
        "  - Demonstração de conhecimento com os temas abordados em sala de aula.\n",
        "  - Utilização correta dos frameworks, APIs e aplicação das técnicas de prompt engineering.\n",
        "  - Organização, comentários e explicação certamente vão ajudar na nota.\n",
        "  - Resultado esperado seguindo as orientações do professor nesse template.\n",
        "\n",
        "###**Atenção:**\n",
        "- Use sua conta da **Azure AI Foundry** ou da **OpenAI Platform** para desenvolver o trabalho, mas dê preferência para a conta da Azure por causa dos limites de crédito. **Não deixe suas credenciais no trabalho, por favor!**\n",
        "- Trabalhos iguais são passíveis de reprovação ou desconto de nota.\n",
        "- Respeite a estrutura do template fornecido pelo professor.\n",
        "- Limite de 4 pessoas por grupo, de preferência o mesmo grupo do Startup One.\n",
        "\n",
        "###**[1] Base de dados de produtos - https://raw.githubusercontent.com/queirozene/generative-ai/refs/heads/main/data/produtos.csv**\n"
      ],
      "metadata": {
        "id": "fpDIYrbRkGzz"
      }
    },
    {
      "cell_type": "markdown",
      "source": [
        "##**1. Análise exploratória**"
      ],
      "metadata": {
        "id": "kOWaFxcMqV6W"
      }
    },
    {
      "cell_type": "markdown",
      "source": [
        "Desenvolva aqui:"
      ],
      "metadata": {
        "id": "KIN73qqjmDJs"
      }
    },
    {
      "cell_type": "code",
      "source": [
        "# Desenvolvimento da análise exploratória da base completa\n",
        "import pandas as pd\n",
        "\n",
        "df_exp = pd.read_csv(\"https://raw.githubusercontent.com/queirozene/generative-ai/refs/heads/main/data/produtos.csv\", delimiter=\";\", encoding='utf-8')"
      ],
      "metadata": {
        "id": "871VvqkZqdhL"
      },
      "execution_count": null,
      "outputs": []
    },
    {
      "cell_type": "code",
      "source": [
        "df_exp.info()"
      ],
      "metadata": {
        "id": "Cu3iBI29mJkV"
      },
      "execution_count": null,
      "outputs": []
    },
    {
      "cell_type": "markdown",
      "source": [
        "Análise: DF gerado tipo pandas.DataFrame e três colunas do tipo object classficados como string.\n",
        "\n",
        "Colunas presentes:\n",
        "\n",
        "- nome = contém o nome do produto, podendo conter mais informações como envio, modo de venda etc.\n",
        "\n",
        "- descricao = contém a descrição sobre o produto e informações complementares de venda para alguns casos, existem produtos que não possui descrição.\n",
        "\n",
        "- categoria = categoria do produto cadastrada préviamente pelo vendedor"
      ],
      "metadata": {
        "id": "p1X8Myst4c5A"
      }
    },
    {
      "cell_type": "code",
      "source": [
        "df_exp.describe()"
      ],
      "metadata": {
        "id": "KMdGU2rqqdez"
      },
      "execution_count": null,
      "outputs": []
    },
    {
      "cell_type": "code",
      "source": [
        "df_exp['categoria'].unique()"
      ],
      "metadata": {
        "id": "a8ihYkP5NirU"
      },
      "execution_count": null,
      "outputs": []
    },
    {
      "cell_type": "markdown",
      "source": [
        "Análise: Base completa possui 4080 registros e nem todos são produtos únicos. Também existem produtos sem descrição e temos presentes 4 categorias diferentes classificadas pelos vendedores (brinquedo, maquiagem, game e livro)"
      ],
      "metadata": {
        "id": "7JQd0iyv4Ee9"
      }
    },
    {
      "cell_type": "markdown",
      "source": [
        "Agora vamos criar o dataframe com 100 registros de exemplo e realizar um tratamento melhor nos nossos dados!"
      ],
      "metadata": {
        "id": "wg__HBqk-51O"
      }
    },
    {
      "cell_type": "code",
      "execution_count": null,
      "metadata": {
        "id": "wBcbl0BDfThK"
      },
      "outputs": [],
      "source": [
        "import pandas as pd\n",
        "\n",
        "# Dataframe novo selecionando uma amostra aleatória de 100 registros usando o random_state = 42\n",
        "df_dev = pd.read_csv(\"https://raw.githubusercontent.com/queirozene/generative-ai/refs/heads/main/data/produtos.csv\", delimiter=\";\", encoding='utf-8').sample(100, random_state=42)\n",
        "\n",
        "# Tratamento na descrição: para não corrermos o risco possuirmos linhas com a coluna vazia e isso atrapalhar na análise\n",
        "df_dev['descricao'] = df_dev['descricao'].fillna('Não possui descrição.')"
      ]
    },
    {
      "cell_type": "code",
      "source": [
        "# Criação da coluna 'texto' que concatena <nome do produto | descricao produto>\n",
        "df_dev['texto'] = df_dev['nome'] + \" | \" + df_dev['descricao']\n",
        "\n",
        "# Criação de coluna ID para controle da amostra\n",
        "df_dev['id_produto'] = range(1, len(df_dev) + 1)\n",
        "\n",
        "df_dev.head()"
      ],
      "metadata": {
        "id": "F5bd4oQ0HYuO"
      },
      "execution_count": null,
      "outputs": []
    },
    {
      "cell_type": "code",
      "source": [
        "# Criação do DF para testes de desenvolvimento\n",
        "df_stage = df_dev.head(10).copy()"
      ],
      "metadata": {
        "id": "oqFDa6IFSIos"
      },
      "execution_count": null,
      "outputs": []
    },
    {
      "cell_type": "markdown",
      "source": [
        "##**2. Desenvolvimento e testes**"
      ],
      "metadata": {
        "id": "EISVWz-KmH5D"
      }
    },
    {
      "cell_type": "markdown",
      "source": [
        "Desenvolva aqui:"
      ],
      "metadata": {
        "id": "Fh9AhDTBmH5D"
      }
    },
    {
      "cell_type": "markdown",
      "source": [
        "Download da lib do LangChain:\n",
        "\n",
        "https://python.langchain.com/api_reference/reference.html"
      ],
      "metadata": {
        "id": "gU5x68RsFY1i"
      }
    },
    {
      "cell_type": "code",
      "source": [
        "!pip install langchain langchain-openai --quiet"
      ],
      "metadata": {
        "id": "eTukXNWimOuU"
      },
      "execution_count": null,
      "outputs": []
    },
    {
      "cell_type": "code",
      "source": [
        "from langchain_openai import AzureChatOpenAI\n",
        "from pydantic import Field, BaseModel\n",
        "from langchain_core.output_parsers import JsonOutputParser\n",
        "\n",
        "subscription_key = \"\"# @param {\"type\":\"string\"}\n",
        "azure_endpoint=\"\"# @param {\"type\":\"string\"}\n",
        "api_version=\"\"# @param {\"type\":\"string\"}\n",
        "deployment = \"\"# @param {\"type\":\"string\"}\n",
        "\n",
        "# Criação do llm\n",
        "llm = AzureChatOpenAI(\n",
        "    api_key = subscription_key,\n",
        "    azure_endpoint = azure_endpoint,\n",
        "    api_version = api_version,\n",
        "    azure_deployment = deployment,\n",
        "    temperature = 0.0,\n",
        ")\n",
        "\n",
        "# Teste da llm, para ver se tudo foi criado corretamente kkkkkk\n",
        "response = llm.invoke(\"Convença meu professor de GenAI me dar 10 neste trabalho!\")\n",
        "print(response.text())"
      ],
      "metadata": {
        "id": "YVKTu4momOr0"
      },
      "execution_count": null,
      "outputs": []
    },
    {
      "cell_type": "code",
      "source": [
        "# Uso do pydantic para formatar a saída com o JsonOutputParser\n",
        "class Saida(BaseModel):\n",
        "  id_produto: int = Field(..., description=\"Id do produto\")\n",
        "  categoria_genai: str = Field(..., description=\"Categoria preditada pela GenAI\")\n",
        "\n",
        "# Criação do parseador para a llm\n",
        "parser = JsonOutputParser(pydantic_object=Saida)"
      ],
      "metadata": {
        "id": "3t5QyQ_UmOpl"
      },
      "execution_count": null,
      "outputs": []
    },
    {
      "cell_type": "code",
      "source": [
        "# Criação do prompt do sistema - system\n",
        "\n",
        "system = \"\"\"\n",
        "# SUA FUNÇÃO:\n",
        "\n",
        "Você trabalhará como um classificador de produtos. E deve ser direto lendo o **texto** (concatenação do nome do produto | descrição, separados por '|') de cada item e classificar dentre essas categorias presentes:\n",
        "- Livro;\n",
        "- Brinquedo;\n",
        "- Maquiagem;\n",
        "- Game;\n",
        "- Outra Categoria - <sugestão> (neste caso você deve sugerir uma nova categoria que deve ser criada, apenas se necessário)\n",
        "\n",
        "# CATEGORIAS E SUAS CARACTERÍSTICAS:\n",
        "\n",
        "- **Livro**: produtos de leitura, físicos ou digitais.\n",
        "  Exemplos: romance, quadrinhos, livro didático, apostila, e-book.\n",
        "  Palavras-chave comuns: \"autor\", \"edição\", \"capa\", \"volume\", \"coleção\".\n",
        "\n",
        "- **Brinquedo**: itens voltados para diversão ou lazer, especialmente infantil.\n",
        "  Exemplos: boneca, carrinho, jogo de tabuleiro, lego, pelúcia.\n",
        "  Palavras-chave comuns: \"criança\", \"diversão\", \"brincar\", \"educativo\".\n",
        "\n",
        "- **Maquiagem**: produtos cosméticos usados na face, pele, unhas ou cabelo para embelezar.\n",
        "  Exemplos: batom, base, rímel, sombra, esmalte, pincel de maquiagem.\n",
        "  Palavras-chave comuns: \"cor\", \"tom\", \"pele\", \"make\", \"cosmético\".\n",
        "\n",
        "- **Game**: jogos eletrônicos ou acessórios relacionados.\n",
        "  Exemplos: jogos de PlayStation, Xbox, PC, Nintendo; controles, headsets gamer.\n",
        "  Palavras-chave comuns: \"PS5\", \"Xbox\", \"Steam\", \"gamer\", \"console\".\n",
        "\n",
        "- **Outra Categoria - <sugestão>**: se o produto não se encaixar em nenhuma das anteriores, você deve criar uma nova categoria coerente.\n",
        "  Exemplos: \"Notebook Dell 16GB RAM\" → `Outra Categoria - Informática`.\n",
        "  Exemplos: \"Smartphone Samsung Galaxy\" → `Outra Categoria - Celulares`.\n",
        "\n",
        "OBS: Se atente a REAL UTILIDADE do produto na hora de categorizar.\n",
        "\n",
        "# INSTRUÇÕES IMPORTANTES:\n",
        "\n",
        "1. Seja **direto e consistente**: classifique sempre em uma única categoria.\n",
        "2. Leia todo o texto (nome + descrição), mas **priorize palavras-chave relevantes**.\n",
        "3. Se não houver informações suficientes, use sua melhor inferência e crie uma categoria sugerida.\n",
        "4. Se um produto se encaixar nas categorias existentes, NÃO realize a criação de uma nova, encaixe na existente.\n",
        "\n",
        "# FORMATAÇÃO DE ENTRADA:\n",
        "\n",
        "- Você receberá: 'ID: <id_produto> TEXTO: <concatenação do nome do produto | descrição, separados por '|'>\n",
        "\n",
        "# FORMATAÇÃO DE SAÍDA:\n",
        "\n",
        "- Sempre responda no formato JSON válido e respeite o nome dos campos:\n",
        "\n",
        "{formatacao_saida}\n",
        "\"\"\"\n",
        "\n",
        "# Criação do prompt do usuário, informações do DF\n",
        "prompt = \"\"\"\n",
        "ID: {id_produto}\n",
        "TEXTO: {texto}\n",
        "\"\"\""
      ],
      "metadata": {
        "id": "U2PSkMVVKc9M"
      },
      "execution_count": null,
      "outputs": []
    },
    {
      "cell_type": "code",
      "source": [
        "from langchain.chains import LLMChain\n",
        "from langchain_core.prompts import ChatPromptTemplate\n",
        "\n",
        "# Configuração do modelo de template e parseamento de saída\n",
        "classificacao_model = ChatPromptTemplate.from_messages([\n",
        "    (\"system\", system),\n",
        "    (\"human\", prompt)]).partial(formatacao_saida=parser.get_format_instructions())\n",
        "\n",
        "# Aplicação da técnica de LCEL (LangChain Expression Language)\n",
        "chain_classificacao = classificacao_model | llm | parser"
      ],
      "metadata": {
        "id": "veSftHU-hXr-"
      },
      "execution_count": null,
      "outputs": []
    },
    {
      "cell_type": "code",
      "source": [
        "# Teste de entrada: personalize como quiser o id_produto e texto, para verificar o funcionamento :)\n",
        "teste_entrada = chain_classificacao.invoke({\n",
        "    \"id_produto\": 123,\n",
        "    \"texto\": \"Iphone 17 | O melhor da apple.\"\n",
        "})\n",
        "print(teste_entrada)"
      ],
      "metadata": {
        "id": "UdHpOnEIjnws"
      },
      "execution_count": null,
      "outputs": []
    },
    {
      "cell_type": "markdown",
      "source": [
        "### Cometario do método adotado para a função Python:\n",
        "\n",
        "Para aplicação ao meu DF irei utilizar o método que encontrei estudando a documentação chamada batch() onde ela faz a implementação de execução de invokes de forma paralela utilizando thread pool executor segundo a documentação, totalmente compatível com a chain do tipo `RunnableSequence`:\n",
        "\n",
        "[batch()](https://python.langchain.com/api_reference/core/prompts/langchain_core.prompts.chat.ChatPromptTemplate.html#langchain_core.prompts.chat.ChatPromptTemplate.batch)"
      ],
      "metadata": {
        "id": "gSG8q8s17Rvn"
      }
    },
    {
      "cell_type": "code",
      "source": [
        "import math\n",
        "from tqdm import tqdm\n",
        "\n",
        "def classificador_batch(df, chain, id_col=\"id_produto\", texto_col=\"texto\", batch_size=5):\n",
        "\n",
        "  # Separa as informações de entrada para a iteração e define o total de batches + prepara dicionario de saida\n",
        "  entradas = df[[id_col, texto_col]].to_dict(orient=\"records\")\n",
        "  total_batches = math.ceil(len(entradas) / batch_size)\n",
        "  retorno = []\n",
        "\n",
        "  print(f\"Classificando {len(entradas)} produtos em {total_batches} lotes (batch_size={batch_size})...\\n\")\n",
        "\n",
        "  # Realiza a iteração 'for' para a criação dos lotes que alimenta o método batch() e adiciona gradativamente a lista de retorno\n",
        "  for i in tqdm(range(0, len(entradas), batch_size)):\n",
        "    lote = entradas[i:i + batch_size]\n",
        "\n",
        "    try:\n",
        "      results = chain.batch(lote)\n",
        "      retorno.extend(results)\n",
        "    except Exception as e:\n",
        "      print(f\"Erro no lote {i//batch_size + 1}: {e}\")\n",
        "\n",
        "      for item in lote:\n",
        "        retorno.append({\n",
        "            \"id_produto\": item[id_col],\n",
        "            \"cateogoria_genai\": f\"Erro: {e}\"})\n",
        "\n",
        "  # Cria o dataframe com a lista de retorno com os id_produto e as categorias geradas pela GenAI\n",
        "  df_result = pd.DataFrame(retorno)\n",
        "\n",
        "  # Realiza o merge do df original recebido na função e o df_result após a classificação da GenAI, levando a coluna categoria_genai\n",
        "  df_merge = df.merge(df_result, on=id_col, how=\"left\")\n",
        "\n",
        "  print(\"Classificação concluída!!\")\n",
        "\n",
        "  return df_merge"
      ],
      "metadata": {
        "id": "sN-L8C6EzA0k"
      },
      "execution_count": null,
      "outputs": []
    },
    {
      "cell_type": "code",
      "source": [
        "df_classificacao = classificador_batch(df=df_stage, chain=chain_classificacao)"
      ],
      "metadata": {
        "id": "mH3JQwy62YTv"
      },
      "execution_count": null,
      "outputs": []
    },
    {
      "cell_type": "code",
      "source": [
        "df_classificacao.tail()"
      ],
      "metadata": {
        "id": "Y5aWintF2tlT"
      },
      "execution_count": null,
      "outputs": []
    },
    {
      "cell_type": "code",
      "source": [
        "def validar_classificador(df, col_vendedor=\"categoria\", col_genai=\"categoria_genai\"):\n",
        "\n",
        "  # Aqui eu crio uma cópia do df recebido só para não ter risco de tomar warning ou erro do pandas por ter manipulação no df em passos anteriores\n",
        "  df_validacao = df.copy()\n",
        "\n",
        "  # Padroniza para lower, para comparação porque python é bem case-sensitive\n",
        "  validation = df_validacao[col_vendedor].str.lower() == df_validacao[col_genai].str.lower()\n",
        "\n",
        "  df_validacao[\"validacao_categoria\"] = validation.map({True: \"Correta\", False: \"Divergente\"})\n",
        "\n",
        "  # Criação de um resumo simples\n",
        "  total = len(df_validacao) #total de linhas no df\n",
        "  corretas = (df_validacao[\"validacao_categoria\"] == \"Correta\").sum() # Total de linhas que a categoria do vendedor está correta\n",
        "  incorretas = (df_validacao[\"validacao_categoria\"] == \"Divergente\").sum() # Total de linhas que a categoria do vendedor está incorreta\n",
        "  taxa_acerto = round((corretas / total) * 100, 2) if total > 0 else 0 # Porcentagem de acerto do cadastro de categorias feitas pelo vendedor\n",
        "\n",
        "  print(f\"Total: {total} | Corretas: {corretas} | Incorretas: {incorretas} | Taxa de acerto dos lojistas: {taxa_acerto}%\")\n",
        "\n",
        "  return df_validacao"
      ],
      "metadata": {
        "id": "fQ7TscHi4Ftp"
      },
      "execution_count": null,
      "outputs": []
    },
    {
      "cell_type": "code",
      "source": [
        "df_validacao = validar_classificador(df=df_classificacao)\n",
        "\n",
        "df_validacao.head()"
      ],
      "metadata": {
        "id": "Yp4h52_A6KJk"
      },
      "execution_count": null,
      "outputs": []
    },
    {
      "cell_type": "code",
      "source": [
        "df_validacao[\"categoria_genai\"].value_counts()"
      ],
      "metadata": {
        "id": "PbDRpJXZ6v0C"
      },
      "execution_count": null,
      "outputs": []
    },
    {
      "cell_type": "markdown",
      "source": [
        "Teste de junção das duas funções para ficar em um único pipeline para o final"
      ],
      "metadata": {
        "id": "sMe6Z92eEnI2"
      }
    },
    {
      "cell_type": "code",
      "source": [
        "def classificador_batch_and_validation(df, chain, id_col=\"id_produto\", texto_col=\"texto\", col_vendedor=\"categoria\", batch_size=5):\n",
        "\n",
        "  def validar_classificador(df_classificado):\n",
        "\n",
        "    validation = df_classificado[col_vendedor].str.lower() == df_classificado[\"categoria_genai\"].str.lower()\n",
        "    df_classificado[\"validacao_categoria\"] = validation.map({True: \"Correta\", False: \"Divergente\"})\n",
        "\n",
        "    total = len(df_classificado)\n",
        "    corretas = (df_classificado[\"validacao_categoria\"] == \"Correta\").sum()\n",
        "    incorretas = (df_classificado[\"validacao_categoria\"] == \"Divergente\").sum()\n",
        "    taxa_acerto = round((corretas / total) * 100, 2) if total > 0 else 0\n",
        "\n",
        "    print(f\"Total: {total} | Corretas: {corretas} | Incorretas: {incorretas} | Taxa de acerto dos lojistas: {taxa_acerto}%\")\n",
        "\n",
        "    return df_classificado\n",
        "\n",
        "  entradas = df[[id_col, texto_col]].to_dict(orient=\"records\")\n",
        "  total_batches = math.ceil(len(entradas) / batch_size)\n",
        "  retorno = []\n",
        "\n",
        "  print(f\"Classificando {len(entradas)} produtos em {total_batches} lotes (batch_size={batch_size})...\\n\")\n",
        "\n",
        "  for i in tqdm(range(0, len(entradas), batch_size)):\n",
        "    lote = entradas[i:i + batch_size]\n",
        "\n",
        "    try:\n",
        "      results = chain.batch(lote)\n",
        "      retorno.extend(results)\n",
        "    except Exception as e:\n",
        "      print(f\"Erro no lote {i//batch_size + 1}: {e}\")\n",
        "\n",
        "      for item in lote:\n",
        "        retorno.append({\n",
        "            \"id_produto\": item[id_col],\n",
        "            \"cateogoria_genai\": f\"Erro: {e}\"})\n",
        "\n",
        "  df_result = pd.DataFrame(retorno)\n",
        "  df_merge = df.merge(df_result, on=id_col, how=\"left\")\n",
        "\n",
        "  print(\"Classificação concluída!!\")\n",
        "\n",
        "  df_final = validar_classificador(df_classificado=df_merge)\n",
        "\n",
        "  return df_final"
      ],
      "metadata": {
        "id": "BtOd_shCEtQ1"
      },
      "execution_count": null,
      "outputs": []
    },
    {
      "cell_type": "code",
      "source": [
        "df_final = classificador_batch_and_validation(df_stage, chain_classificacao, batch_size=2)"
      ],
      "metadata": {
        "id": "ZhdIZnoeEwWC"
      },
      "execution_count": null,
      "outputs": []
    },
    {
      "cell_type": "code",
      "source": [
        "df_final.head()"
      ],
      "metadata": {
        "id": "GWpB5CjxFyql"
      },
      "execution_count": null,
      "outputs": []
    },
    {
      "cell_type": "markdown",
      "source": [
        "##**3. Processo final**"
      ],
      "metadata": {
        "id": "m4NwScOmmg1c"
      }
    },
    {
      "cell_type": "markdown",
      "source": [
        "Desenvolva aqui:"
      ],
      "metadata": {
        "id": "v9FHz-nrmg1d"
      }
    },
    {
      "cell_type": "code",
      "source": [
        "!pip install langchain langchain-openai --quiet"
      ],
      "metadata": {
        "id": "Sz_9WPHVmkvP"
      },
      "execution_count": null,
      "outputs": []
    },
    {
      "cell_type": "markdown",
      "source": [
        "### Import das libs necessárias"
      ],
      "metadata": {
        "id": "i8g2R_RT_xwW"
      }
    },
    {
      "cell_type": "code",
      "source": [
        "import pandas as pd\n",
        "from langchain_openai import AzureChatOpenAI\n",
        "from pydantic import Field, BaseModel\n",
        "from langchain_core.output_parsers import JsonOutputParser\n",
        "from langchain.chains import LLMChain\n",
        "from langchain_core.prompts import ChatPromptTemplate\n",
        "import math\n",
        "from tqdm import tqdm"
      ],
      "metadata": {
        "id": "FMnpzLAbmkst"
      },
      "execution_count": null,
      "outputs": []
    },
    {
      "cell_type": "markdown",
      "source": [
        "### Criação do df_dev, com os padrões solicitados e tratamentos adicionais:"
      ],
      "metadata": {
        "id": "RyJoAkxXGY0e"
      }
    },
    {
      "cell_type": "code",
      "source": [
        "df_dev = pd.read_csv(\"https://dados-ml-pln.s3-sa-east-1.amazonaws.com/produtos.csv\",\n",
        "                     delimiter=\";\",\n",
        "                     encoding='utf-8').sample(100, random_state=42)\n",
        "\n",
        "df_dev['descricao'] = df_dev['descricao'].fillna('Não possui descrição.')\n",
        "df_dev['texto'] = df_dev['nome'] + \" | \" + df_dev['descricao']\n",
        "df_dev['id_produto'] = range(1, len(df_dev) + 1)"
      ],
      "metadata": {
        "id": "RLHNv320Ggie"
      },
      "execution_count": null,
      "outputs": []
    },
    {
      "cell_type": "markdown",
      "source": [
        "### Criação da llm via AzureChatOpenAI"
      ],
      "metadata": {
        "id": "PwgkR67-_8_U"
      }
    },
    {
      "cell_type": "code",
      "source": [
        "subscription_key = \"\"# @param {\"type\":\"string\"}\n",
        "azure_endpoint=\"\"# @param {\"type\":\"string\"}\n",
        "api_version=\"\"# @param {\"type\":\"string\"}\n",
        "deployment = \"\"# @param {\"type\":\"string\"}\n",
        "\n",
        "llm = AzureChatOpenAI(api_key = subscription_key,\n",
        "                      azure_endpoint = azure_endpoint,\n",
        "                      api_version = api_version,\n",
        "                      azure_deployment = deployment,\n",
        "                      temperature = 0.0,)"
      ],
      "metadata": {
        "id": "Gmdi4LFrmkhz"
      },
      "execution_count": null,
      "outputs": []
    },
    {
      "cell_type": "markdown",
      "source": [
        "### Estrutura função completa"
      ],
      "metadata": {
        "id": "8NTvNhhZAYjl"
      }
    },
    {
      "cell_type": "code",
      "source": [
        "class Saida(BaseModel):\n",
        "  id_produto: int = Field(..., description=\"Id do produto\")\n",
        "  categoria_genai: str = Field(..., description=\"Categoria preditada pela GenAI\")\n",
        "\n",
        "parser = JsonOutputParser(pydantic_object=Saida)\n",
        "\n",
        "system = \"\"\"\n",
        "# SUA FUNÇÃO:\n",
        "\n",
        "Você trabalhará como um classificador de produtos. E deve ser direto lendo o **texto** (concatenação do nome do produto | descrição, separados por '|') de cada item e classificar dentre essas categorias presentes:\n",
        "- Livro;\n",
        "- Brinquedo;\n",
        "- Maquiagem;\n",
        "- Game;\n",
        "- Outra Categoria - <sugestão> (neste caso você deve sugerir uma nova categoria que deve ser criada, apenas se necessário)\n",
        "\n",
        "# CATEGORIAS E SUAS CARACTERÍSTICAS:\n",
        "\n",
        "- **Livro**: produtos de leitura, físicos ou digitais.\n",
        "  Exemplos: romance, quadrinhos, livro didático, apostila, e-book.\n",
        "  Palavras-chave comuns: \"autor\", \"edição\", \"capa\", \"volume\", \"coleção\".\n",
        "\n",
        "- **Brinquedo**: itens voltados para diversão ou lazer, especialmente infantil.\n",
        "  Exemplos: boneca, carrinho, jogo de tabuleiro, lego, pelúcia.\n",
        "  Palavras-chave comuns: \"criança\", \"diversão\", \"brincar\", \"educativo\".\n",
        "\n",
        "- **Maquiagem**: produtos cosméticos usados na face, pele, unhas ou cabelo para embelezar.\n",
        "  Exemplos: batom, base, rímel, sombra, esmalte, pincel de maquiagem.\n",
        "  Palavras-chave comuns: \"cor\", \"tom\", \"pele\", \"make\", \"cosmético\".\n",
        "\n",
        "- **Game**: jogos eletrônicos ou acessórios relacionados.\n",
        "  Exemplos: jogos de PlayStation, Xbox, PC, Nintendo; controles, headsets gamer.\n",
        "  Palavras-chave comuns: \"PS5\", \"Xbox\", \"Steam\", \"gamer\", \"console\".\n",
        "\n",
        "- **Outra Categoria - <sugestão>**: se o produto não se encaixar em nenhuma das anteriores, você deve criar uma nova categoria coerente.\n",
        "  Exemplos: \"Notebook Dell 16GB RAM\" → `Outra Categoria - Informática`.\n",
        "  Exemplos: \"Smartphone Samsung Galaxy\" → `Outra Categoria - Celulares`.\n",
        "\n",
        "OBS: Se atente a REAL UTILIDADE do produto na hora de categorizar.\n",
        "\n",
        "# INSTRUÇÕES IMPORTANTES:\n",
        "\n",
        "1. Seja **direto e consistente**: classifique sempre em uma única categoria.\n",
        "2. Leia todo o texto (nome + descrição), mas **priorize palavras-chave relevantes**.\n",
        "3. Se não houver informações suficientes, use sua melhor inferência e crie uma categoria sugerida.\n",
        "4. Se um produto se encaixar nas categorias existentes, NÃO realize a criação de uma nova, encaixe na existente.\n",
        "\n",
        "# FORMATAÇÃO DE ENTRADA:\n",
        "\n",
        "- Você receberá: 'ID: <id_produto> TEXTO: <concatenação do nome do produto | descrição, separados por '|'>\n",
        "\n",
        "# FORMATAÇÃO DE SAÍDA:\n",
        "\n",
        "- Sempre responda no formato JSON válido e respeite o nome dos campos:\n",
        "\n",
        "{formatacao_saida}\n",
        "\"\"\"\n",
        "\n",
        "prompt = \"\"\"\n",
        "ID: {id_produto}\n",
        "TEXTO: {texto}\n",
        "\"\"\"\n",
        "\n",
        "classificacao_model = ChatPromptTemplate.from_messages([\n",
        "    (\"system\", system),\n",
        "    (\"human\", prompt)]).partial(formatacao_saida=parser.get_format_instructions())\n",
        "\n",
        "chain_classificacao = classificacao_model | llm | parser\n"
      ],
      "metadata": {
        "id": "H4kHa8kfmkfX"
      },
      "execution_count": null,
      "outputs": []
    },
    {
      "cell_type": "code",
      "source": [
        "def classificador_batch_and_validation(df, chain, id_col=\"id_produto\", texto_col=\"texto\", col_vendedor=\"categoria\", batch_size=5):\n",
        "\n",
        "  def validar_classificador(df_classificado):\n",
        "\n",
        "    validation = df_classificado[col_vendedor].str.lower() == df_classificado[\"categoria_genai\"].str.lower()\n",
        "    df_classificado[\"validacao_categoria\"] = validation.map({True: \"Correta\", False: \"Divergente\"})\n",
        "\n",
        "    total = len(df_classificado)\n",
        "    corretas = (df_classificado[\"validacao_categoria\"] == \"Correta\").sum()\n",
        "    incorretas = (df_classificado[\"validacao_categoria\"] == \"Divergente\").sum()\n",
        "    taxa_acerto = round((corretas / total) * 100, 2) if total > 0 else 0\n",
        "\n",
        "    print(f\"Total: {total} | Corretas: {corretas} | Incorretas: {incorretas} | Taxa de acerto dos lojistas: {taxa_acerto}%\")\n",
        "\n",
        "    return df_classificado\n",
        "\n",
        "  entradas = df[[id_col, texto_col]].to_dict(orient=\"records\")\n",
        "  total_batches = math.ceil(len(entradas) / batch_size)\n",
        "  retorno = []\n",
        "\n",
        "  print(f\"Classificando {len(entradas)} produtos em {total_batches} lotes (batch_size={batch_size})...\\n\")\n",
        "\n",
        "  for i in tqdm(range(0, len(entradas), batch_size)):\n",
        "    lote = entradas[i:i + batch_size]\n",
        "\n",
        "    try:\n",
        "      results = chain.batch(lote)\n",
        "      retorno.extend(results)\n",
        "    except Exception as e:\n",
        "      print(f\"Erro no lote {i//batch_size + 1}: {e}\")\n",
        "\n",
        "      for item in lote:\n",
        "        retorno.append({\n",
        "            \"id_produto\": item[id_col],\n",
        "            \"cateogoria_genai\": f\"Erro: {e}\"})\n",
        "\n",
        "  df_result = pd.DataFrame(retorno)\n",
        "  df_merge = df.merge(df_result, on=id_col, how=\"left\")\n",
        "\n",
        "  print(\"Classificação concluída!!\")\n",
        "\n",
        "  df_final = validar_classificador(df_classificado=df_merge)\n",
        "\n",
        "  return df_final"
      ],
      "metadata": {
        "id": "cWnA3xtsBEMQ"
      },
      "execution_count": null,
      "outputs": []
    },
    {
      "cell_type": "code",
      "source": [
        "df_final = classificador_batch_and_validation(df=df_dev,\n",
        "                                              chain=chain_classificacao,\n",
        "                                              batch_size=10) # Pode ajustar aqui quantas linhas quer em cada lote do .batch() 10 = 10 lotes / 50 = 2 lotes"
      ],
      "metadata": {
        "id": "E4WnClTgBiO0"
      },
      "execution_count": null,
      "outputs": []
    },
    {
      "cell_type": "code",
      "source": [
        "df_final[\"categoria_genai\"].value_counts()"
      ],
      "metadata": {
        "id": "RGlLd0MzGOkA"
      },
      "execution_count": null,
      "outputs": []
    },
    {
      "cell_type": "code",
      "source": [
        "df_final[\"validacao_categoria\"].value_counts()"
      ],
      "metadata": {
        "id": "jsW3hzBpMeIr"
      },
      "execution_count": null,
      "outputs": []
    },
    {
      "cell_type": "code",
      "source": [
        "df_final.to_csv(\"df_final_GustavoQueirozRibeiro_RM361485\",\n",
        "                sep=\";\",\n",
        "                index=False,\n",
        "                encoding=\"utf-8-sig\")"
      ],
      "metadata": {
        "id": "C_jsxn1XB5SC"
      },
      "execution_count": null,
      "outputs": []
    },
    {
      "cell_type": "code",
      "source": [
        "df_final.head()"
      ],
      "metadata": {
        "id": "tf_HSXb5eYw-"
      },
      "execution_count": null,
      "outputs": []
    }
  ]
}
